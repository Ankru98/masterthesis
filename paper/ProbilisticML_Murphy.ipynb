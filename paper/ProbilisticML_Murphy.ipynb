{
 "cells": [
  {
   "attachments": {},
   "cell_type": "markdown",
   "metadata": {},
   "source": [
    "### Supervised Learning\n",
    "Task: learn a mapping from inputs x to outputs y\n",
    "- inputs x are called features, covariates or predictors\n",
    "- output y is called label, target or response\n",
    "- experience is given in form of a training set\n",
    "- the performance measure depends on the type of output we are predicting (Classification or Regression)\n",
    "\n",
    "#### Regression\n",
    "Goal: predict a real-valued quantity y (instead of a class label)\n",
    "\n",
    "Regression is very similar to classification. However, since the output is real-valued, we need to use a different loss function.\n",
    "- most common: quadratic loss (l2), which penalizes large resuduals more than small ones\n",
    "- if the data has outliers, the quadratic penalty can be too severe; in such cases, it can be better to use l1 loss instead, which is more robust\n",
    "\n",
    "A model that perfectly fits the training data, but which is too complex, is said to suffer from overfitting.\n",
    "- partition the data we have into two subsets and approximate the population risk using the test risk\n",
    "How can we pick the right model complexity? If we use the training set to evaluate different models, we will always pick the most complex model, since that will have the most degrees of freedom, and hence will have minimum loss. So instead we should pick the model with minimum test loss.\n",
    "In practice we need to partition the data into three set: training, test, validation\n",
    "We just use the test set to estimate future performance, i.e. the test is not used for model selection or model fitting."
   ]
  },
  {
   "cell_type": "markdown",
   "metadata": {},
   "source": []
  }
 ],
 "metadata": {
  "kernelspec": {
   "display_name": "Python 3",
   "language": "python",
   "name": "python3"
  },
  "language_info": {
   "name": "python",
   "version": "3.9.13"
  },
  "orig_nbformat": 4
 },
 "nbformat": 4,
 "nbformat_minor": 2
}
