{
 "cells": [
  {
   "attachments": {},
   "cell_type": "markdown",
   "metadata": {},
   "source": [
    "In the file \"ML_forecasting_univariate\" I tested the desired models in a univariate scenario. Therefore, I only used the value of the benchmark indices \"STOXX Europe 600\".\n",
    "\n",
    "This notebook aims to get this process on the next stage by implementing these models for all variables or indices, resp."
   ]
  },
  {
   "cell_type": "code",
   "execution_count": 38,
   "metadata": {},
   "outputs": [],
   "source": [
    "import pandas as pd\n",
    "import numpy as np\n",
    "from darts import TimeSeries\n",
    "import matplotlib.pyplot as plt\n",
    "from sklearn.model_selection import train_test_split\n",
    "from darts.models import LinearRegressionModel, RegressionModel, RandomForest, RegressionEnsembleModel\n",
    "from sklearn import cross_decomposition\n",
    "from sklearn.ensemble import GradientBoostingRegressor, AdaBoostRegressor, ExtraTreesRegressor\n",
    "from sklearn.svm import SVR\n",
    "from darts.metrics import mape, r2_score\n",
    "import sklearn"
   ]
  },
  {
   "cell_type": "code",
   "execution_count": 39,
   "metadata": {},
   "outputs": [],
   "source": [
    "ts = TimeSeries.from_csv('data/price_data_filtered.csv', parse_dates=True, index_col=0)\n",
    "ts = ts.astype('float32')\n",
    "#ts.plot(label='Price')"
   ]
  },
  {
   "cell_type": "code",
   "execution_count": 76,
   "metadata": {},
   "outputs": [],
   "source": [
    "train, test = ts.split_after(0.8)"
   ]
  },
  {
   "attachments": {},
   "cell_type": "markdown",
   "metadata": {},
   "source": [
    "### Multivariate Shrinkage methods:\n",
    "- Linear regression"
   ]
  },
  {
   "cell_type": "code",
   "execution_count": 77,
   "metadata": {},
   "outputs": [],
   "source": [
    "# linear regression model\n",
    "linear_regression = LinearRegressionModel(lags=1, output_chunk_length=1)\n",
    "linear_regression.fit(train)\n",
    "linear_forecast = linear_regression.predict(len(test))"
   ]
  },
  {
   "cell_type": "code",
   "execution_count": 78,
   "metadata": {},
   "outputs": [],
   "source": [
    "# plotting the results of the linear regression model\n",
    "#for col in linear_forecast.columns:\n",
    "#    linear_forecast[col].plot(label=f'{col}_prediction')\n",
    "#    ts[col].plot(label=f'{col}_actual')"
   ]
  },
  {
   "attachments": {},
   "cell_type": "markdown",
   "metadata": {},
   "source": [
    "### Multivariate Dimensionality reduction methods:\n",
    "- CCA"
   ]
  },
  {
   "cell_type": "code",
   "execution_count": 79,
   "metadata": {},
   "outputs": [
    {
     "name": "stderr",
     "output_type": "stream",
     "text": [
      "/Users/antonkruse/.pyenv/versions/3.9.13/lib/python3.9/site-packages/sklearn/cross_decomposition/_pls.py:110: ConvergenceWarning: Maximum number of iterations reached\n",
      "  warnings.warn(\"Maximum number of iterations reached\", ConvergenceWarning)\n"
     ]
    }
   ],
   "source": [
    "cca = RegressionModel(lags=1, output_chunk_length=1, model= sklearn.cross_decomposition.CCA(n_components=1))\n",
    "cca.fit(train)\n",
    "cca_forecast = cca.predict(len(test))"
   ]
  },
  {
   "cell_type": "code",
   "execution_count": 45,
   "metadata": {},
   "outputs": [],
   "source": [
    "#cca_forecast.plot(label='prediction')\n",
    "#ts.plot(label='actual');"
   ]
  },
  {
   "attachments": {},
   "cell_type": "markdown",
   "metadata": {},
   "source": [
    "### Multivariate Nonlinear ML methods\n",
    "- Random Forest"
   ]
  },
  {
   "cell_type": "code",
   "execution_count": 80,
   "metadata": {},
   "outputs": [],
   "source": [
    "# random forest model\n",
    "random_forest = RandomForest(lags=100, output_chunk_length=1, n_estimators=100)\n",
    "random_forest.fit(train)\n",
    "random_forest_forecast = random_forest.predict(len(test))"
   ]
  },
  {
   "cell_type": "code",
   "execution_count": 81,
   "metadata": {},
   "outputs": [],
   "source": [
    "#random_forest_forecast.plot(label='prediction')\n",
    "#ts.plot(label='actual');"
   ]
  },
  {
   "attachments": {},
   "cell_type": "markdown",
   "metadata": {},
   "source": [
    "#### Returns\n",
    "Now we need to compute this whole process with return values, such that we can transpose a forecast relative comparison in table format"
   ]
  },
  {
   "cell_type": "code",
   "execution_count": 102,
   "metadata": {},
   "outputs": [],
   "source": [
    "ts = TimeSeries.from_csv('data/price_data_filtered.csv', parse_dates=True, index_col=0)\n",
    "returns = ts['STOXX Europe 600'].pd_dataframe().pct_change().dropna()"
   ]
  },
  {
   "cell_type": "code",
   "execution_count": 103,
   "metadata": {},
   "outputs": [
    {
     "data": {
      "text/html": [
       "<div>\n",
       "<style scoped>\n",
       "    .dataframe tbody tr th:only-of-type {\n",
       "        vertical-align: middle;\n",
       "    }\n",
       "\n",
       "    .dataframe tbody tr th {\n",
       "        vertical-align: top;\n",
       "    }\n",
       "\n",
       "    .dataframe thead th {\n",
       "        text-align: right;\n",
       "    }\n",
       "</style>\n",
       "<table border=\"1\" class=\"dataframe\">\n",
       "  <thead>\n",
       "    <tr style=\"text-align: right;\">\n",
       "      <th>component</th>\n",
       "      <th>STOXX Europe 600</th>\n",
       "    </tr>\n",
       "    <tr>\n",
       "      <th>time</th>\n",
       "      <th></th>\n",
       "    </tr>\n",
       "  </thead>\n",
       "  <tbody>\n",
       "    <tr>\n",
       "      <th>2021-09-01</th>\n",
       "      <td>5.716808</td>\n",
       "    </tr>\n",
       "    <tr>\n",
       "      <th>2021-10-01</th>\n",
       "      <td>5.472414</td>\n",
       "    </tr>\n",
       "    <tr>\n",
       "      <th>2021-11-01</th>\n",
       "      <td>5.786189</td>\n",
       "    </tr>\n",
       "    <tr>\n",
       "      <th>2021-12-01</th>\n",
       "      <td>5.689488</td>\n",
       "    </tr>\n",
       "    <tr>\n",
       "      <th>2022-01-01</th>\n",
       "      <td>5.920590</td>\n",
       "    </tr>\n",
       "  </tbody>\n",
       "</table>\n",
       "</div>"
      ],
      "text/plain": [
       "component   STOXX Europe 600\n",
       "time                        \n",
       "2021-09-01          5.716808\n",
       "2021-10-01          5.472414\n",
       "2021-11-01          5.786189\n",
       "2021-12-01          5.689488\n",
       "2022-01-01          5.920590"
      ]
     },
     "execution_count": 103,
     "metadata": {},
     "output_type": "execute_result"
    }
   ],
   "source": [
    "returns_cum = (returns + 1).cumprod()\n",
    "returns_cum.tail()"
   ]
  },
  {
   "cell_type": "code",
   "execution_count": 104,
   "metadata": {},
   "outputs": [],
   "source": [
    "returns_cum = returns_cum.astype('float32')\n",
    "returns_cum_ts = TimeSeries.from_dataframe(returns_cum)"
   ]
  },
  {
   "cell_type": "code",
   "execution_count": 105,
   "metadata": {},
   "outputs": [],
   "source": [
    "train_returns, test_returns = returns_cum_ts.split_after(0.8)"
   ]
  },
  {
   "cell_type": "code",
   "execution_count": 106,
   "metadata": {},
   "outputs": [],
   "source": [
    "# linear regression model\n",
    "returns_linear_regression = LinearRegressionModel(lags=1, output_chunk_length=1)\n",
    "returns_linear_regression.fit(train_returns)\n",
    "returns_linear_forecast = returns_linear_regression.predict(len(test))"
   ]
  },
  {
   "cell_type": "code",
   "execution_count": 107,
   "metadata": {},
   "outputs": [
    {
     "data": {
      "image/png": "[encoded data removed]",
      "text/plain": [
       "<Figure size 640x480 with 1 Axes>"
      ]
     },
     "metadata": {},
     "output_type": "display_data"
    }
   ],
   "source": [
    "# plotting the results of the linear regression model\n",
    "for col in returns_linear_forecast.columns:\n",
    "    returns_linear_forecast[col].plot(label=f'{col}_prediction')\n",
    "    returns_cum_ts[col].plot(label=f'{col}_actual')"
   ]
  },
  {
   "cell_type": "code",
   "execution_count": 116,
   "metadata": {},
   "outputs": [
    {
     "data": {
      "text/html": [
       "<div>\n",
       "<style scoped>\n",
       "    .dataframe tbody tr th:only-of-type {\n",
       "        vertical-align: middle;\n",
       "    }\n",
       "\n",
       "    .dataframe tbody tr th {\n",
       "        vertical-align: top;\n",
       "    }\n",
       "\n",
       "    .dataframe thead th {\n",
       "        text-align: right;\n",
       "    }\n",
       "</style>\n",
       "<table border=\"1\" class=\"dataframe\">\n",
       "  <thead>\n",
       "    <tr style=\"text-align: right;\">\n",
       "      <th></th>\n",
       "      <th>actual benchmark</th>\n",
       "      <th>predicted benchmark</th>\n",
       "    </tr>\n",
       "    <tr>\n",
       "      <th>time</th>\n",
       "      <th></th>\n",
       "      <th></th>\n",
       "    </tr>\n",
       "  </thead>\n",
       "  <tbody>\n",
       "    <tr>\n",
       "      <th>2021-09-01</th>\n",
       "      <td>5.716808</td>\n",
       "      <td>4.034739</td>\n",
       "    </tr>\n",
       "    <tr>\n",
       "      <th>2021-10-01</th>\n",
       "      <td>5.472414</td>\n",
       "      <td>4.033796</td>\n",
       "    </tr>\n",
       "    <tr>\n",
       "      <th>2021-11-01</th>\n",
       "      <td>5.786189</td>\n",
       "      <td>4.032861</td>\n",
       "    </tr>\n",
       "    <tr>\n",
       "      <th>2021-12-01</th>\n",
       "      <td>5.689487</td>\n",
       "      <td>4.031933</td>\n",
       "    </tr>\n",
       "    <tr>\n",
       "      <th>2022-01-01</th>\n",
       "      <td>5.920589</td>\n",
       "      <td>4.031012</td>\n",
       "    </tr>\n",
       "  </tbody>\n",
       "</table>\n",
       "</div>"
      ],
      "text/plain": [
       "            actual benchmark  predicted benchmark\n",
       "time                                             \n",
       "2021-09-01          5.716808             4.034739\n",
       "2021-10-01          5.472414             4.033796\n",
       "2021-11-01          5.786189             4.032861\n",
       "2021-12-01          5.689487             4.031933\n",
       "2022-01-01          5.920589             4.031012"
      ]
     },
     "execution_count": 116,
     "metadata": {},
     "output_type": "execute_result"
    }
   ],
   "source": [
    "# create table including the actual and predicted values tail\n",
    "x=returns_cum_ts.pd_dataframe().tail()\n",
    "y=returns_linear_forecast.pd_dataframe().tail()\n",
    "# column names\n",
    "x.columns=['actual benchmark']\n",
    "y.columns=['predicted benchmark']\n",
    "z=pd.concat([x,y], axis=1)\n",
    "z\n"
   ]
  },
  {
   "cell_type": "code",
   "execution_count": null,
   "metadata": {},
   "outputs": [],
   "source": []
  }
 ],
 "metadata": {
  "kernelspec": {
   "display_name": "Python 3",
   "language": "python",
   "name": "python3"
  },
  "language_info": {
   "codemirror_mode": {
    "name": "ipython",
    "version": 3
   },
   "file_extension": ".py",
   "mimetype": "text/x-python",
   "name": "python",
   "nbconvert_exporter": "python",
   "pygments_lexer": "ipython3",
   "version": "3.9.13"
  },
  "orig_nbformat": 4
 },
 "nbformat": 4,
 "nbformat_minor": 2
}
