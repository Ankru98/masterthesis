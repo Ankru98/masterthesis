{
 "cells": [
  {
   "attachments": {},
   "cell_type": "markdown",
   "metadata": {},
   "source": [
    "This code cntains only exploratory data analysis to prepare the necessary data for my masterthesis on the topic of \"ML in portfolio optimization context\". In the beginning of March I send Prof. Haas Version1 of my EDA, where he claimed several drawbacks. Therefore, we decided to move on with sector data from the EuropeStoxx 600 and compare defensive vs. cyclical data."
   ]
  },
  {
   "cell_type": "code",
   "execution_count": null,
   "metadata": {},
   "outputs": [],
   "source": []
  }
 ],
 "metadata": {
  "language_info": {
   "name": "python"
  },
  "orig_nbformat": 4
 },
 "nbformat": 4,
 "nbformat_minor": 2
}
